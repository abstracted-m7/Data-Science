{
 "cells": [
  {
   "cell_type": "code",
   "execution_count": null,
   "metadata": {},
   "outputs": [],
   "source": []
  },
  {
   "cell_type": "code",
   "execution_count": 120,
   "metadata": {},
   "outputs": [],
   "source": [
    "#import libraries\n",
    "import pandas as pd\n",
    "import numpy as np\n",
    "import matplotlib.pyplot as plt"
   ]
  },
  {
   "cell_type": "code",
   "execution_count": 121,
   "metadata": {},
   "outputs": [],
   "source": [
    "#create Dataframe object\n",
    "data=pd.read_csv('pima-indians-diabetes.csv')"
   ]
  },
  {
   "cell_type": "code",
   "execution_count": 122,
   "metadata": {},
   "outputs": [
    {
     "data": {
      "text/html": [
       "<div>\n",
       "<style scoped>\n",
       "    .dataframe tbody tr th:only-of-type {\n",
       "        vertical-align: middle;\n",
       "    }\n",
       "\n",
       "    .dataframe tbody tr th {\n",
       "        vertical-align: top;\n",
       "    }\n",
       "\n",
       "    .dataframe thead th {\n",
       "        text-align: right;\n",
       "    }\n",
       "</style>\n",
       "<table border=\"1\" class=\"dataframe\">\n",
       "  <thead>\n",
       "    <tr style=\"text-align: right;\">\n",
       "      <th></th>\n",
       "      <th>6</th>\n",
       "      <th>148</th>\n",
       "      <th>72</th>\n",
       "      <th>35</th>\n",
       "      <th>0</th>\n",
       "      <th>33.6</th>\n",
       "      <th>0.627</th>\n",
       "      <th>50</th>\n",
       "      <th>1</th>\n",
       "    </tr>\n",
       "  </thead>\n",
       "  <tbody>\n",
       "    <tr>\n",
       "      <th>0</th>\n",
       "      <td>1</td>\n",
       "      <td>85</td>\n",
       "      <td>66</td>\n",
       "      <td>29</td>\n",
       "      <td>0</td>\n",
       "      <td>26.6</td>\n",
       "      <td>0.351</td>\n",
       "      <td>31</td>\n",
       "      <td>0</td>\n",
       "    </tr>\n",
       "    <tr>\n",
       "      <th>1</th>\n",
       "      <td>8</td>\n",
       "      <td>183</td>\n",
       "      <td>64</td>\n",
       "      <td>0</td>\n",
       "      <td>0</td>\n",
       "      <td>23.3</td>\n",
       "      <td>0.672</td>\n",
       "      <td>32</td>\n",
       "      <td>1</td>\n",
       "    </tr>\n",
       "    <tr>\n",
       "      <th>2</th>\n",
       "      <td>1</td>\n",
       "      <td>89</td>\n",
       "      <td>66</td>\n",
       "      <td>23</td>\n",
       "      <td>94</td>\n",
       "      <td>28.1</td>\n",
       "      <td>0.167</td>\n",
       "      <td>21</td>\n",
       "      <td>0</td>\n",
       "    </tr>\n",
       "    <tr>\n",
       "      <th>3</th>\n",
       "      <td>0</td>\n",
       "      <td>137</td>\n",
       "      <td>40</td>\n",
       "      <td>35</td>\n",
       "      <td>168</td>\n",
       "      <td>43.1</td>\n",
       "      <td>2.288</td>\n",
       "      <td>33</td>\n",
       "      <td>1</td>\n",
       "    </tr>\n",
       "    <tr>\n",
       "      <th>4</th>\n",
       "      <td>5</td>\n",
       "      <td>116</td>\n",
       "      <td>74</td>\n",
       "      <td>0</td>\n",
       "      <td>0</td>\n",
       "      <td>25.6</td>\n",
       "      <td>0.201</td>\n",
       "      <td>30</td>\n",
       "      <td>0</td>\n",
       "    </tr>\n",
       "  </tbody>\n",
       "</table>\n",
       "</div>"
      ],
      "text/plain": [
       "   6  148  72  35    0  33.6  0.627  50  1\n",
       "0  1   85  66  29    0  26.6  0.351  31  0\n",
       "1  8  183  64   0    0  23.3  0.672  32  1\n",
       "2  1   89  66  23   94  28.1  0.167  21  0\n",
       "3  0  137  40  35  168  43.1  2.288  33  1\n",
       "4  5  116  74   0    0  25.6  0.201  30  0"
      ]
     },
     "execution_count": 122,
     "metadata": {},
     "output_type": "execute_result"
    }
   ],
   "source": [
    "data.head()"
   ]
  },
  {
   "cell_type": "code",
   "execution_count": 123,
   "metadata": {},
   "outputs": [
    {
     "name": "stdout",
     "output_type": "stream",
     "text": [
      "<class 'pandas.core.frame.DataFrame'>\n",
      "RangeIndex: 767 entries, 0 to 766\n",
      "Data columns (total 9 columns):\n",
      "6        767 non-null int64\n",
      "148      767 non-null int64\n",
      "72       767 non-null int64\n",
      "35       767 non-null int64\n",
      "0        767 non-null int64\n",
      "33.6     767 non-null float64\n",
      "0.627    767 non-null float64\n",
      "50       767 non-null int64\n",
      "1        767 non-null int64\n",
      "dtypes: float64(2), int64(7)\n",
      "memory usage: 54.0 KB\n"
     ]
    }
   ],
   "source": [
    "data.info()"
   ]
  },
  {
   "cell_type": "code",
   "execution_count": 124,
   "metadata": {},
   "outputs": [],
   "source": [
    "data=pd.read_csv(\"pima-indians-diabetes.csv\",names=['No of times pregnant','Plasma glucose concentration','Diastolic blood pressure(mm Hg)',\n",
    "                 'Triceps skinfold thickness','serum insulin(mu U/ml)','Body mass index','Diabetics pedigree function','Age' ,'Class variable' ])"
   ]
  },
  {
   "cell_type": "code",
   "execution_count": 125,
   "metadata": {},
   "outputs": [
    {
     "data": {
      "text/html": [
       "<div>\n",
       "<style scoped>\n",
       "    .dataframe tbody tr th:only-of-type {\n",
       "        vertical-align: middle;\n",
       "    }\n",
       "\n",
       "    .dataframe tbody tr th {\n",
       "        vertical-align: top;\n",
       "    }\n",
       "\n",
       "    .dataframe thead th {\n",
       "        text-align: right;\n",
       "    }\n",
       "</style>\n",
       "<table border=\"1\" class=\"dataframe\">\n",
       "  <thead>\n",
       "    <tr style=\"text-align: right;\">\n",
       "      <th></th>\n",
       "      <th>No of times pregnant</th>\n",
       "      <th>Plasma glucose concentration</th>\n",
       "      <th>Diastolic blood pressure(mm Hg)</th>\n",
       "      <th>Triceps skinfold thickness</th>\n",
       "      <th>serum insulin(mu U/ml)</th>\n",
       "      <th>Body mass index</th>\n",
       "      <th>Diabetics pedigree function</th>\n",
       "      <th>Age</th>\n",
       "      <th>Class variable</th>\n",
       "    </tr>\n",
       "  </thead>\n",
       "  <tbody>\n",
       "    <tr>\n",
       "      <th>0</th>\n",
       "      <td>6</td>\n",
       "      <td>148</td>\n",
       "      <td>72</td>\n",
       "      <td>35</td>\n",
       "      <td>0</td>\n",
       "      <td>33.6</td>\n",
       "      <td>0.627</td>\n",
       "      <td>50</td>\n",
       "      <td>1</td>\n",
       "    </tr>\n",
       "    <tr>\n",
       "      <th>1</th>\n",
       "      <td>1</td>\n",
       "      <td>85</td>\n",
       "      <td>66</td>\n",
       "      <td>29</td>\n",
       "      <td>0</td>\n",
       "      <td>26.6</td>\n",
       "      <td>0.351</td>\n",
       "      <td>31</td>\n",
       "      <td>0</td>\n",
       "    </tr>\n",
       "    <tr>\n",
       "      <th>2</th>\n",
       "      <td>8</td>\n",
       "      <td>183</td>\n",
       "      <td>64</td>\n",
       "      <td>0</td>\n",
       "      <td>0</td>\n",
       "      <td>23.3</td>\n",
       "      <td>0.672</td>\n",
       "      <td>32</td>\n",
       "      <td>1</td>\n",
       "    </tr>\n",
       "    <tr>\n",
       "      <th>3</th>\n",
       "      <td>1</td>\n",
       "      <td>89</td>\n",
       "      <td>66</td>\n",
       "      <td>23</td>\n",
       "      <td>94</td>\n",
       "      <td>28.1</td>\n",
       "      <td>0.167</td>\n",
       "      <td>21</td>\n",
       "      <td>0</td>\n",
       "    </tr>\n",
       "    <tr>\n",
       "      <th>4</th>\n",
       "      <td>0</td>\n",
       "      <td>137</td>\n",
       "      <td>40</td>\n",
       "      <td>35</td>\n",
       "      <td>168</td>\n",
       "      <td>43.1</td>\n",
       "      <td>2.288</td>\n",
       "      <td>33</td>\n",
       "      <td>1</td>\n",
       "    </tr>\n",
       "  </tbody>\n",
       "</table>\n",
       "</div>"
      ],
      "text/plain": [
       "   No of times pregnant  Plasma glucose concentration  \\\n",
       "0                     6                           148   \n",
       "1                     1                            85   \n",
       "2                     8                           183   \n",
       "3                     1                            89   \n",
       "4                     0                           137   \n",
       "\n",
       "   Diastolic blood pressure(mm Hg)  Triceps skinfold thickness  \\\n",
       "0                               72                          35   \n",
       "1                               66                          29   \n",
       "2                               64                           0   \n",
       "3                               66                          23   \n",
       "4                               40                          35   \n",
       "\n",
       "   serum insulin(mu U/ml)  Body mass index  Diabetics pedigree function  Age  \\\n",
       "0                       0             33.6                        0.627   50   \n",
       "1                       0             26.6                        0.351   31   \n",
       "2                       0             23.3                        0.672   32   \n",
       "3                      94             28.1                        0.167   21   \n",
       "4                     168             43.1                        2.288   33   \n",
       "\n",
       "   Class variable  \n",
       "0               1  \n",
       "1               0  \n",
       "2               1  \n",
       "3               0  \n",
       "4               1  "
      ]
     },
     "execution_count": 125,
     "metadata": {},
     "output_type": "execute_result"
    }
   ],
   "source": [
    "data.head()"
   ]
  },
  {
   "cell_type": "code",
   "execution_count": 126,
   "metadata": {},
   "outputs": [
    {
     "name": "stdout",
     "output_type": "stream",
     "text": [
      "<class 'pandas.core.frame.DataFrame'>\n",
      "RangeIndex: 768 entries, 0 to 767\n",
      "Data columns (total 9 columns):\n",
      "No of times pregnant               768 non-null int64\n",
      "Plasma glucose concentration       768 non-null int64\n",
      "Diastolic blood pressure(mm Hg)    768 non-null int64\n",
      "Triceps skinfold thickness         768 non-null int64\n",
      "serum insulin(mu U/ml)             768 non-null int64\n",
      "Body mass index                    768 non-null float64\n",
      "Diabetics pedigree function        768 non-null float64\n",
      "Age                                768 non-null int64\n",
      "Class variable                     768 non-null int64\n",
      "dtypes: float64(2), int64(7)\n",
      "memory usage: 54.1 KB\n"
     ]
    }
   ],
   "source": [
    "data.info()"
   ]
  },
  {
   "cell_type": "markdown",
   "metadata": {},
   "source": [
    "# Feature Engineering"
   ]
  },
  {
   "cell_type": "code",
   "execution_count": 127,
   "metadata": {},
   "outputs": [
    {
     "data": {
      "text/plain": [
       "No of times pregnant               0\n",
       "Plasma glucose concentration       0\n",
       "Diastolic blood pressure(mm Hg)    0\n",
       "Triceps skinfold thickness         0\n",
       "serum insulin(mu U/ml)             0\n",
       "Body mass index                    0\n",
       "Diabetics pedigree function        0\n",
       "Age                                0\n",
       "Class variable                     0\n",
       "dtype: int64"
      ]
     },
     "execution_count": 127,
     "metadata": {},
     "output_type": "execute_result"
    }
   ],
   "source": [
    "data.isna().sum()"
   ]
  },
  {
   "cell_type": "code",
   "execution_count": null,
   "metadata": {},
   "outputs": [],
   "source": []
  },
  {
   "cell_type": "markdown",
   "metadata": {},
   "source": [
    "## Feature Selection"
   ]
  },
  {
   "cell_type": "code",
   "execution_count": 128,
   "metadata": {},
   "outputs": [
    {
     "data": {
      "text/plain": [
       "Index(['No of times pregnant', 'Plasma glucose concentration',\n",
       "       'Diastolic blood pressure(mm Hg)', 'Triceps skinfold thickness',\n",
       "       'serum insulin(mu U/ml)', 'Body mass index',\n",
       "       'Diabetics pedigree function', 'Age', 'Class variable'],\n",
       "      dtype='object')"
      ]
     },
     "execution_count": 128,
     "metadata": {},
     "output_type": "execute_result"
    }
   ],
   "source": [
    "data.columns"
   ]
  },
  {
   "cell_type": "code",
   "execution_count": 129,
   "metadata": {},
   "outputs": [
    {
     "data": {
      "text/plain": [
       "(768,)"
      ]
     },
     "execution_count": 129,
     "metadata": {},
     "output_type": "execute_result"
    }
   ],
   "source": [
    "X=data.drop('Class variable',axis=1)\n",
    "y=data['Class variable']\n",
    "#X.head()\n",
    "y.shape\n",
    "\n",
    "\n",
    "\n",
    "\n"
   ]
  },
  {
   "cell_type": "code",
   "execution_count": 130,
   "metadata": {},
   "outputs": [
    {
     "data": {
      "text/plain": [
       "<bound method NDFrame.head of 0      1\n",
       "1      0\n",
       "2      1\n",
       "3      0\n",
       "4      1\n",
       "5      0\n",
       "6      1\n",
       "7      0\n",
       "8      1\n",
       "9      1\n",
       "10     0\n",
       "11     1\n",
       "12     0\n",
       "13     1\n",
       "14     1\n",
       "15     1\n",
       "16     1\n",
       "17     1\n",
       "18     0\n",
       "19     1\n",
       "20     0\n",
       "21     0\n",
       "22     1\n",
       "23     1\n",
       "24     1\n",
       "25     1\n",
       "26     1\n",
       "27     0\n",
       "28     0\n",
       "29     0\n",
       "      ..\n",
       "738    0\n",
       "739    1\n",
       "740    1\n",
       "741    0\n",
       "742    0\n",
       "743    1\n",
       "744    0\n",
       "745    0\n",
       "746    1\n",
       "747    0\n",
       "748    1\n",
       "749    1\n",
       "750    1\n",
       "751    0\n",
       "752    0\n",
       "753    1\n",
       "754    1\n",
       "755    1\n",
       "756    0\n",
       "757    1\n",
       "758    0\n",
       "759    1\n",
       "760    0\n",
       "761    1\n",
       "762    0\n",
       "763    0\n",
       "764    0\n",
       "765    0\n",
       "766    1\n",
       "767    0\n",
       "Name: Class variable, Length: 768, dtype: int64>"
      ]
     },
     "execution_count": 130,
     "metadata": {},
     "output_type": "execute_result"
    }
   ],
   "source": [
    "y.head"
   ]
  },
  {
   "cell_type": "code",
   "execution_count": 131,
   "metadata": {},
   "outputs": [],
   "source": [
    "import seaborn as sns"
   ]
  },
  {
   "cell_type": "code",
   "execution_count": 132,
   "metadata": {},
   "outputs": [
    {
     "data": {
      "text/plain": [
       "(8, 8)"
      ]
     },
     "execution_count": 132,
     "metadata": {},
     "output_type": "execute_result"
    }
   ],
   "source": [
    "#Finding correlation between features\n",
    "corr=X.corr()\n",
    "corr.shape"
   ]
  },
  {
   "cell_type": "code",
   "execution_count": 133,
   "metadata": {},
   "outputs": [
    {
     "data": {
      "image/png": "[encoded data removed]",
      "text/plain": [
       "<Figure size 864x648 with 2 Axes>"
      ]
     },
     "metadata": {
      "needs_background": "light"
     },
     "output_type": "display_data"
    }
   ],
   "source": [
    "# plotting heatmap of correlation between features\n",
    "plt.figure(figsize=(12,9))\n",
    "sns.heatmap(corr,vmin=0,vmax=1,annot=True,fmt=\".1f\",cmap='coolwarm',cbar= True,square= True)\n",
    "plt.show()"
   ]
  },
  {
   "cell_type": "code",
   "execution_count": 134,
   "metadata": {},
   "outputs": [],
   "source": [
    "#with the following features we can find highly correlated features\n",
    "def correlation(dataset,threshold):\n",
    "    col_corr=set()\n",
    "    corr_matrix=dataset.corr()\n",
    "    for i in range(len(corr_matrix.columns)):\n",
    "        for j in range(i):\n",
    "            if abs(corr_matrix.iloc[i,j])>threshold:\n",
    "                colname=corr_matrix.columns[i]\n",
    "                col_corr.add(colname)\n",
    "    return col_corr"
   ]
  },
  {
   "cell_type": "code",
   "execution_count": 135,
   "metadata": {},
   "outputs": [
    {
     "data": {
      "text/plain": [
       "{'Age', 'serum insulin(mu U/ml)'}"
      ]
     },
     "execution_count": 135,
     "metadata": {},
     "output_type": "execute_result"
    }
   ],
   "source": [
    "corr_features=correlation(X,.4)\n",
    "corr_features"
   ]
  },
  {
   "cell_type": "code",
   "execution_count": 136,
   "metadata": {},
   "outputs": [
    {
     "data": {
      "text/html": [
       "<div>\n",
       "<style scoped>\n",
       "    .dataframe tbody tr th:only-of-type {\n",
       "        vertical-align: middle;\n",
       "    }\n",
       "\n",
       "    .dataframe tbody tr th {\n",
       "        vertical-align: top;\n",
       "    }\n",
       "\n",
       "    .dataframe thead th {\n",
       "        text-align: right;\n",
       "    }\n",
       "</style>\n",
       "<table border=\"1\" class=\"dataframe\">\n",
       "  <thead>\n",
       "    <tr style=\"text-align: right;\">\n",
       "      <th></th>\n",
       "      <th>No of times pregnant</th>\n",
       "      <th>Plasma glucose concentration</th>\n",
       "      <th>Diastolic blood pressure(mm Hg)</th>\n",
       "      <th>Triceps skinfold thickness</th>\n",
       "      <th>Body mass index</th>\n",
       "      <th>Diabetics pedigree function</th>\n",
       "    </tr>\n",
       "  </thead>\n",
       "  <tbody>\n",
       "    <tr>\n",
       "      <th>0</th>\n",
       "      <td>6</td>\n",
       "      <td>148</td>\n",
       "      <td>72</td>\n",
       "      <td>35</td>\n",
       "      <td>33.6</td>\n",
       "      <td>0.627</td>\n",
       "    </tr>\n",
       "    <tr>\n",
       "      <th>1</th>\n",
       "      <td>1</td>\n",
       "      <td>85</td>\n",
       "      <td>66</td>\n",
       "      <td>29</td>\n",
       "      <td>26.6</td>\n",
       "      <td>0.351</td>\n",
       "    </tr>\n",
       "    <tr>\n",
       "      <th>2</th>\n",
       "      <td>8</td>\n",
       "      <td>183</td>\n",
       "      <td>64</td>\n",
       "      <td>0</td>\n",
       "      <td>23.3</td>\n",
       "      <td>0.672</td>\n",
       "    </tr>\n",
       "    <tr>\n",
       "      <th>3</th>\n",
       "      <td>1</td>\n",
       "      <td>89</td>\n",
       "      <td>66</td>\n",
       "      <td>23</td>\n",
       "      <td>28.1</td>\n",
       "      <td>0.167</td>\n",
       "    </tr>\n",
       "    <tr>\n",
       "      <th>4</th>\n",
       "      <td>0</td>\n",
       "      <td>137</td>\n",
       "      <td>40</td>\n",
       "      <td>35</td>\n",
       "      <td>43.1</td>\n",
       "      <td>2.288</td>\n",
       "    </tr>\n",
       "    <tr>\n",
       "      <th>5</th>\n",
       "      <td>5</td>\n",
       "      <td>116</td>\n",
       "      <td>74</td>\n",
       "      <td>0</td>\n",
       "      <td>25.6</td>\n",
       "      <td>0.201</td>\n",
       "    </tr>\n",
       "    <tr>\n",
       "      <th>6</th>\n",
       "      <td>3</td>\n",
       "      <td>78</td>\n",
       "      <td>50</td>\n",
       "      <td>32</td>\n",
       "      <td>31.0</td>\n",
       "      <td>0.248</td>\n",
       "    </tr>\n",
       "    <tr>\n",
       "      <th>7</th>\n",
       "      <td>10</td>\n",
       "      <td>115</td>\n",
       "      <td>0</td>\n",
       "      <td>0</td>\n",
       "      <td>35.3</td>\n",
       "      <td>0.134</td>\n",
       "    </tr>\n",
       "    <tr>\n",
       "      <th>8</th>\n",
       "      <td>2</td>\n",
       "      <td>197</td>\n",
       "      <td>70</td>\n",
       "      <td>45</td>\n",
       "      <td>30.5</td>\n",
       "      <td>0.158</td>\n",
       "    </tr>\n",
       "    <tr>\n",
       "      <th>9</th>\n",
       "      <td>8</td>\n",
       "      <td>125</td>\n",
       "      <td>96</td>\n",
       "      <td>0</td>\n",
       "      <td>0.0</td>\n",
       "      <td>0.232</td>\n",
       "    </tr>\n",
       "    <tr>\n",
       "      <th>10</th>\n",
       "      <td>4</td>\n",
       "      <td>110</td>\n",
       "      <td>92</td>\n",
       "      <td>0</td>\n",
       "      <td>37.6</td>\n",
       "      <td>0.191</td>\n",
       "    </tr>\n",
       "    <tr>\n",
       "      <th>11</th>\n",
       "      <td>10</td>\n",
       "      <td>168</td>\n",
       "      <td>74</td>\n",
       "      <td>0</td>\n",
       "      <td>38.0</td>\n",
       "      <td>0.537</td>\n",
       "    </tr>\n",
       "    <tr>\n",
       "      <th>12</th>\n",
       "      <td>10</td>\n",
       "      <td>139</td>\n",
       "      <td>80</td>\n",
       "      <td>0</td>\n",
       "      <td>27.1</td>\n",
       "      <td>1.441</td>\n",
       "    </tr>\n",
       "    <tr>\n",
       "      <th>13</th>\n",
       "      <td>1</td>\n",
       "      <td>189</td>\n",
       "      <td>60</td>\n",
       "      <td>23</td>\n",
       "      <td>30.1</td>\n",
       "      <td>0.398</td>\n",
       "    </tr>\n",
       "    <tr>\n",
       "      <th>14</th>\n",
       "      <td>5</td>\n",
       "      <td>166</td>\n",
       "      <td>72</td>\n",
       "      <td>19</td>\n",
       "      <td>25.8</td>\n",
       "      <td>0.587</td>\n",
       "    </tr>\n",
       "    <tr>\n",
       "      <th>15</th>\n",
       "      <td>7</td>\n",
       "      <td>100</td>\n",
       "      <td>0</td>\n",
       "      <td>0</td>\n",
       "      <td>30.0</td>\n",
       "      <td>0.484</td>\n",
       "    </tr>\n",
       "    <tr>\n",
       "      <th>16</th>\n",
       "      <td>0</td>\n",
       "      <td>118</td>\n",
       "      <td>84</td>\n",
       "      <td>47</td>\n",
       "      <td>45.8</td>\n",
       "      <td>0.551</td>\n",
       "    </tr>\n",
       "    <tr>\n",
       "      <th>17</th>\n",
       "      <td>7</td>\n",
       "      <td>107</td>\n",
       "      <td>74</td>\n",
       "      <td>0</td>\n",
       "      <td>29.6</td>\n",
       "      <td>0.254</td>\n",
       "    </tr>\n",
       "    <tr>\n",
       "      <th>18</th>\n",
       "      <td>1</td>\n",
       "      <td>103</td>\n",
       "      <td>30</td>\n",
       "      <td>38</td>\n",
       "      <td>43.3</td>\n",
       "      <td>0.183</td>\n",
       "    </tr>\n",
       "    <tr>\n",
       "      <th>19</th>\n",
       "      <td>1</td>\n",
       "      <td>115</td>\n",
       "      <td>70</td>\n",
       "      <td>30</td>\n",
       "      <td>34.6</td>\n",
       "      <td>0.529</td>\n",
       "    </tr>\n",
       "    <tr>\n",
       "      <th>20</th>\n",
       "      <td>3</td>\n",
       "      <td>126</td>\n",
       "      <td>88</td>\n",
       "      <td>41</td>\n",
       "      <td>39.3</td>\n",
       "      <td>0.704</td>\n",
       "    </tr>\n",
       "    <tr>\n",
       "      <th>21</th>\n",
       "      <td>8</td>\n",
       "      <td>99</td>\n",
       "      <td>84</td>\n",
       "      <td>0</td>\n",
       "      <td>35.4</td>\n",
       "      <td>0.388</td>\n",
       "    </tr>\n",
       "    <tr>\n",
       "      <th>22</th>\n",
       "      <td>7</td>\n",
       "      <td>196</td>\n",
       "      <td>90</td>\n",
       "      <td>0</td>\n",
       "      <td>39.8</td>\n",
       "      <td>0.451</td>\n",
       "    </tr>\n",
       "    <tr>\n",
       "      <th>23</th>\n",
       "      <td>9</td>\n",
       "      <td>119</td>\n",
       "      <td>80</td>\n",
       "      <td>35</td>\n",
       "      <td>29.0</td>\n",
       "      <td>0.263</td>\n",
       "    </tr>\n",
       "    <tr>\n",
       "      <th>24</th>\n",
       "      <td>11</td>\n",
       "      <td>143</td>\n",
       "      <td>94</td>\n",
       "      <td>33</td>\n",
       "      <td>36.6</td>\n",
       "      <td>0.254</td>\n",
       "    </tr>\n",
       "    <tr>\n",
       "      <th>25</th>\n",
       "      <td>10</td>\n",
       "      <td>125</td>\n",
       "      <td>70</td>\n",
       "      <td>26</td>\n",
       "      <td>31.1</td>\n",
       "      <td>0.205</td>\n",
       "    </tr>\n",
       "    <tr>\n",
       "      <th>26</th>\n",
       "      <td>7</td>\n",
       "      <td>147</td>\n",
       "      <td>76</td>\n",
       "      <td>0</td>\n",
       "      <td>39.4</td>\n",
       "      <td>0.257</td>\n",
       "    </tr>\n",
       "    <tr>\n",
       "      <th>27</th>\n",
       "      <td>1</td>\n",
       "      <td>97</td>\n",
       "      <td>66</td>\n",
       "      <td>15</td>\n",
       "      <td>23.2</td>\n",
       "      <td>0.487</td>\n",
       "    </tr>\n",
       "    <tr>\n",
       "      <th>28</th>\n",
       "      <td>13</td>\n",
       "      <td>145</td>\n",
       "      <td>82</td>\n",
       "      <td>19</td>\n",
       "      <td>22.2</td>\n",
       "      <td>0.245</td>\n",
       "    </tr>\n",
       "    <tr>\n",
       "      <th>29</th>\n",
       "      <td>5</td>\n",
       "      <td>117</td>\n",
       "      <td>92</td>\n",
       "      <td>0</td>\n",
       "      <td>34.1</td>\n",
       "      <td>0.337</td>\n",
       "    </tr>\n",
       "    <tr>\n",
       "      <th>...</th>\n",
       "      <td>...</td>\n",
       "      <td>...</td>\n",
       "      <td>...</td>\n",
       "      <td>...</td>\n",
       "      <td>...</td>\n",
       "      <td>...</td>\n",
       "    </tr>\n",
       "    <tr>\n",
       "      <th>738</th>\n",
       "      <td>2</td>\n",
       "      <td>99</td>\n",
       "      <td>60</td>\n",
       "      <td>17</td>\n",
       "      <td>36.6</td>\n",
       "      <td>0.453</td>\n",
       "    </tr>\n",
       "    <tr>\n",
       "      <th>739</th>\n",
       "      <td>1</td>\n",
       "      <td>102</td>\n",
       "      <td>74</td>\n",
       "      <td>0</td>\n",
       "      <td>39.5</td>\n",
       "      <td>0.293</td>\n",
       "    </tr>\n",
       "    <tr>\n",
       "      <th>740</th>\n",
       "      <td>11</td>\n",
       "      <td>120</td>\n",
       "      <td>80</td>\n",
       "      <td>37</td>\n",
       "      <td>42.3</td>\n",
       "      <td>0.785</td>\n",
       "    </tr>\n",
       "    <tr>\n",
       "      <th>741</th>\n",
       "      <td>3</td>\n",
       "      <td>102</td>\n",
       "      <td>44</td>\n",
       "      <td>20</td>\n",
       "      <td>30.8</td>\n",
       "      <td>0.400</td>\n",
       "    </tr>\n",
       "    <tr>\n",
       "      <th>742</th>\n",
       "      <td>1</td>\n",
       "      <td>109</td>\n",
       "      <td>58</td>\n",
       "      <td>18</td>\n",
       "      <td>28.5</td>\n",
       "      <td>0.219</td>\n",
       "    </tr>\n",
       "    <tr>\n",
       "      <th>743</th>\n",
       "      <td>9</td>\n",
       "      <td>140</td>\n",
       "      <td>94</td>\n",
       "      <td>0</td>\n",
       "      <td>32.7</td>\n",
       "      <td>0.734</td>\n",
       "    </tr>\n",
       "    <tr>\n",
       "      <th>744</th>\n",
       "      <td>13</td>\n",
       "      <td>153</td>\n",
       "      <td>88</td>\n",
       "      <td>37</td>\n",
       "      <td>40.6</td>\n",
       "      <td>1.174</td>\n",
       "    </tr>\n",
       "    <tr>\n",
       "      <th>745</th>\n",
       "      <td>12</td>\n",
       "      <td>100</td>\n",
       "      <td>84</td>\n",
       "      <td>33</td>\n",
       "      <td>30.0</td>\n",
       "      <td>0.488</td>\n",
       "    </tr>\n",
       "    <tr>\n",
       "      <th>746</th>\n",
       "      <td>1</td>\n",
       "      <td>147</td>\n",
       "      <td>94</td>\n",
       "      <td>41</td>\n",
       "      <td>49.3</td>\n",
       "      <td>0.358</td>\n",
       "    </tr>\n",
       "    <tr>\n",
       "      <th>747</th>\n",
       "      <td>1</td>\n",
       "      <td>81</td>\n",
       "      <td>74</td>\n",
       "      <td>41</td>\n",
       "      <td>46.3</td>\n",
       "      <td>1.096</td>\n",
       "    </tr>\n",
       "    <tr>\n",
       "      <th>748</th>\n",
       "      <td>3</td>\n",
       "      <td>187</td>\n",
       "      <td>70</td>\n",
       "      <td>22</td>\n",
       "      <td>36.4</td>\n",
       "      <td>0.408</td>\n",
       "    </tr>\n",
       "    <tr>\n",
       "      <th>749</th>\n",
       "      <td>6</td>\n",
       "      <td>162</td>\n",
       "      <td>62</td>\n",
       "      <td>0</td>\n",
       "      <td>24.3</td>\n",
       "      <td>0.178</td>\n",
       "    </tr>\n",
       "    <tr>\n",
       "      <th>750</th>\n",
       "      <td>4</td>\n",
       "      <td>136</td>\n",
       "      <td>70</td>\n",
       "      <td>0</td>\n",
       "      <td>31.2</td>\n",
       "      <td>1.182</td>\n",
       "    </tr>\n",
       "    <tr>\n",
       "      <th>751</th>\n",
       "      <td>1</td>\n",
       "      <td>121</td>\n",
       "      <td>78</td>\n",
       "      <td>39</td>\n",
       "      <td>39.0</td>\n",
       "      <td>0.261</td>\n",
       "    </tr>\n",
       "    <tr>\n",
       "      <th>752</th>\n",
       "      <td>3</td>\n",
       "      <td>108</td>\n",
       "      <td>62</td>\n",
       "      <td>24</td>\n",
       "      <td>26.0</td>\n",
       "      <td>0.223</td>\n",
       "    </tr>\n",
       "    <tr>\n",
       "      <th>753</th>\n",
       "      <td>0</td>\n",
       "      <td>181</td>\n",
       "      <td>88</td>\n",
       "      <td>44</td>\n",
       "      <td>43.3</td>\n",
       "      <td>0.222</td>\n",
       "    </tr>\n",
       "    <tr>\n",
       "      <th>754</th>\n",
       "      <td>8</td>\n",
       "      <td>154</td>\n",
       "      <td>78</td>\n",
       "      <td>32</td>\n",
       "      <td>32.4</td>\n",
       "      <td>0.443</td>\n",
       "    </tr>\n",
       "    <tr>\n",
       "      <th>755</th>\n",
       "      <td>1</td>\n",
       "      <td>128</td>\n",
       "      <td>88</td>\n",
       "      <td>39</td>\n",
       "      <td>36.5</td>\n",
       "      <td>1.057</td>\n",
       "    </tr>\n",
       "    <tr>\n",
       "      <th>756</th>\n",
       "      <td>7</td>\n",
       "      <td>137</td>\n",
       "      <td>90</td>\n",
       "      <td>41</td>\n",
       "      <td>32.0</td>\n",
       "      <td>0.391</td>\n",
       "    </tr>\n",
       "    <tr>\n",
       "      <th>757</th>\n",
       "      <td>0</td>\n",
       "      <td>123</td>\n",
       "      <td>72</td>\n",
       "      <td>0</td>\n",
       "      <td>36.3</td>\n",
       "      <td>0.258</td>\n",
       "    </tr>\n",
       "    <tr>\n",
       "      <th>758</th>\n",
       "      <td>1</td>\n",
       "      <td>106</td>\n",
       "      <td>76</td>\n",
       "      <td>0</td>\n",
       "      <td>37.5</td>\n",
       "      <td>0.197</td>\n",
       "    </tr>\n",
       "    <tr>\n",
       "      <th>759</th>\n",
       "      <td>6</td>\n",
       "      <td>190</td>\n",
       "      <td>92</td>\n",
       "      <td>0</td>\n",
       "      <td>35.5</td>\n",
       "      <td>0.278</td>\n",
       "    </tr>\n",
       "    <tr>\n",
       "      <th>760</th>\n",
       "      <td>2</td>\n",
       "      <td>88</td>\n",
       "      <td>58</td>\n",
       "      <td>26</td>\n",
       "      <td>28.4</td>\n",
       "      <td>0.766</td>\n",
       "    </tr>\n",
       "    <tr>\n",
       "      <th>761</th>\n",
       "      <td>9</td>\n",
       "      <td>170</td>\n",
       "      <td>74</td>\n",
       "      <td>31</td>\n",
       "      <td>44.0</td>\n",
       "      <td>0.403</td>\n",
       "    </tr>\n",
       "    <tr>\n",
       "      <th>762</th>\n",
       "      <td>9</td>\n",
       "      <td>89</td>\n",
       "      <td>62</td>\n",
       "      <td>0</td>\n",
       "      <td>22.5</td>\n",
       "      <td>0.142</td>\n",
       "    </tr>\n",
       "    <tr>\n",
       "      <th>763</th>\n",
       "      <td>10</td>\n",
       "      <td>101</td>\n",
       "      <td>76</td>\n",
       "      <td>48</td>\n",
       "      <td>32.9</td>\n",
       "      <td>0.171</td>\n",
       "    </tr>\n",
       "    <tr>\n",
       "      <th>764</th>\n",
       "      <td>2</td>\n",
       "      <td>122</td>\n",
       "      <td>70</td>\n",
       "      <td>27</td>\n",
       "      <td>36.8</td>\n",
       "      <td>0.340</td>\n",
       "    </tr>\n",
       "    <tr>\n",
       "      <th>765</th>\n",
       "      <td>5</td>\n",
       "      <td>121</td>\n",
       "      <td>72</td>\n",
       "      <td>23</td>\n",
       "      <td>26.2</td>\n",
       "      <td>0.245</td>\n",
       "    </tr>\n",
       "    <tr>\n",
       "      <th>766</th>\n",
       "      <td>1</td>\n",
       "      <td>126</td>\n",
       "      <td>60</td>\n",
       "      <td>0</td>\n",
       "      <td>30.1</td>\n",
       "      <td>0.349</td>\n",
       "    </tr>\n",
       "    <tr>\n",
       "      <th>767</th>\n",
       "      <td>1</td>\n",
       "      <td>93</td>\n",
       "      <td>70</td>\n",
       "      <td>31</td>\n",
       "      <td>30.4</td>\n",
       "      <td>0.315</td>\n",
       "    </tr>\n",
       "  </tbody>\n",
       "</table>\n",
       "<p>768 rows × 6 columns</p>\n",
       "</div>"
      ],
      "text/plain": [
       "     No of times pregnant  Plasma glucose concentration  \\\n",
       "0                       6                           148   \n",
       "1                       1                            85   \n",
       "2                       8                           183   \n",
       "3                       1                            89   \n",
       "4                       0                           137   \n",
       "5                       5                           116   \n",
       "6                       3                            78   \n",
       "7                      10                           115   \n",
       "8                       2                           197   \n",
       "9                       8                           125   \n",
       "10                      4                           110   \n",
       "11                     10                           168   \n",
       "12                     10                           139   \n",
       "13                      1                           189   \n",
       "14                      5                           166   \n",
       "15                      7                           100   \n",
       "16                      0                           118   \n",
       "17                      7                           107   \n",
       "18                      1                           103   \n",
       "19                      1                           115   \n",
       "20                      3                           126   \n",
       "21                      8                            99   \n",
       "22                      7                           196   \n",
       "23                      9                           119   \n",
       "24                     11                           143   \n",
       "25                     10                           125   \n",
       "26                      7                           147   \n",
       "27                      1                            97   \n",
       "28                     13                           145   \n",
       "29                      5                           117   \n",
       "..                    ...                           ...   \n",
       "738                     2                            99   \n",
       "739                     1                           102   \n",
       "740                    11                           120   \n",
       "741                     3                           102   \n",
       "742                     1                           109   \n",
       "743                     9                           140   \n",
       "744                    13                           153   \n",
       "745                    12                           100   \n",
       "746                     1                           147   \n",
       "747                     1                            81   \n",
       "748                     3                           187   \n",
       "749                     6                           162   \n",
       "750                     4                           136   \n",
       "751                     1                           121   \n",
       "752                     3                           108   \n",
       "753                     0                           181   \n",
       "754                     8                           154   \n",
       "755                     1                           128   \n",
       "756                     7                           137   \n",
       "757                     0                           123   \n",
       "758                     1                           106   \n",
       "759                     6                           190   \n",
       "760                     2                            88   \n",
       "761                     9                           170   \n",
       "762                     9                            89   \n",
       "763                    10                           101   \n",
       "764                     2                           122   \n",
       "765                     5                           121   \n",
       "766                     1                           126   \n",
       "767                     1                            93   \n",
       "\n",
       "     Diastolic blood pressure(mm Hg)  Triceps skinfold thickness  \\\n",
       "0                                 72                          35   \n",
       "1                                 66                          29   \n",
       "2                                 64                           0   \n",
       "3                                 66                          23   \n",
       "4                                 40                          35   \n",
       "5                                 74                           0   \n",
       "6                                 50                          32   \n",
       "7                                  0                           0   \n",
       "8                                 70                          45   \n",
       "9                                 96                           0   \n",
       "10                                92                           0   \n",
       "11                                74                           0   \n",
       "12                                80                           0   \n",
       "13                                60                          23   \n",
       "14                                72                          19   \n",
       "15                                 0                           0   \n",
       "16                                84                          47   \n",
       "17                                74                           0   \n",
       "18                                30                          38   \n",
       "19                                70                          30   \n",
       "20                                88                          41   \n",
       "21                                84                           0   \n",
       "22                                90                           0   \n",
       "23                                80                          35   \n",
       "24                                94                          33   \n",
       "25                                70                          26   \n",
       "26                                76                           0   \n",
       "27                                66                          15   \n",
       "28                                82                          19   \n",
       "29                                92                           0   \n",
       "..                               ...                         ...   \n",
       "738                               60                          17   \n",
       "739                               74                           0   \n",
       "740                               80                          37   \n",
       "741                               44                          20   \n",
       "742                               58                          18   \n",
       "743                               94                           0   \n",
       "744                               88                          37   \n",
       "745                               84                          33   \n",
       "746                               94                          41   \n",
       "747                               74                          41   \n",
       "748                               70                          22   \n",
       "749                               62                           0   \n",
       "750                               70                           0   \n",
       "751                               78                          39   \n",
       "752                               62                          24   \n",
       "753                               88                          44   \n",
       "754                               78                          32   \n",
       "755                               88                          39   \n",
       "756                               90                          41   \n",
       "757                               72                           0   \n",
       "758                               76                           0   \n",
       "759                               92                           0   \n",
       "760                               58                          26   \n",
       "761                               74                          31   \n",
       "762                               62                           0   \n",
       "763                               76                          48   \n",
       "764                               70                          27   \n",
       "765                               72                          23   \n",
       "766                               60                           0   \n",
       "767                               70                          31   \n",
       "\n",
       "     Body mass index  Diabetics pedigree function  \n",
       "0               33.6                        0.627  \n",
       "1               26.6                        0.351  \n",
       "2               23.3                        0.672  \n",
       "3               28.1                        0.167  \n",
       "4               43.1                        2.288  \n",
       "5               25.6                        0.201  \n",
       "6               31.0                        0.248  \n",
       "7               35.3                        0.134  \n",
       "8               30.5                        0.158  \n",
       "9                0.0                        0.232  \n",
       "10              37.6                        0.191  \n",
       "11              38.0                        0.537  \n",
       "12              27.1                        1.441  \n",
       "13              30.1                        0.398  \n",
       "14              25.8                        0.587  \n",
       "15              30.0                        0.484  \n",
       "16              45.8                        0.551  \n",
       "17              29.6                        0.254  \n",
       "18              43.3                        0.183  \n",
       "19              34.6                        0.529  \n",
       "20              39.3                        0.704  \n",
       "21              35.4                        0.388  \n",
       "22              39.8                        0.451  \n",
       "23              29.0                        0.263  \n",
       "24              36.6                        0.254  \n",
       "25              31.1                        0.205  \n",
       "26              39.4                        0.257  \n",
       "27              23.2                        0.487  \n",
       "28              22.2                        0.245  \n",
       "29              34.1                        0.337  \n",
       "..               ...                          ...  \n",
       "738             36.6                        0.453  \n",
       "739             39.5                        0.293  \n",
       "740             42.3                        0.785  \n",
       "741             30.8                        0.400  \n",
       "742             28.5                        0.219  \n",
       "743             32.7                        0.734  \n",
       "744             40.6                        1.174  \n",
       "745             30.0                        0.488  \n",
       "746             49.3                        0.358  \n",
       "747             46.3                        1.096  \n",
       "748             36.4                        0.408  \n",
       "749             24.3                        0.178  \n",
       "750             31.2                        1.182  \n",
       "751             39.0                        0.261  \n",
       "752             26.0                        0.223  \n",
       "753             43.3                        0.222  \n",
       "754             32.4                        0.443  \n",
       "755             36.5                        1.057  \n",
       "756             32.0                        0.391  \n",
       "757             36.3                        0.258  \n",
       "758             37.5                        0.197  \n",
       "759             35.5                        0.278  \n",
       "760             28.4                        0.766  \n",
       "761             44.0                        0.403  \n",
       "762             22.5                        0.142  \n",
       "763             32.9                        0.171  \n",
       "764             36.8                        0.340  \n",
       "765             26.2                        0.245  \n",
       "766             30.1                        0.349  \n",
       "767             30.4                        0.315  \n",
       "\n",
       "[768 rows x 6 columns]"
      ]
     },
     "execution_count": 136,
     "metadata": {},
     "output_type": "execute_result"
    }
   ],
   "source": [
    "X_new=X.drop(corr_features,axis=1)\n",
    "X_new"
   ]
  },
  {
   "cell_type": "markdown",
   "metadata": {},
   "source": [
    " ## spilt into training and testing dataset"
   ]
  },
  {
   "cell_type": "code",
   "execution_count": 137,
   "metadata": {},
   "outputs": [
    {
     "data": {
      "text/plain": [
       "(231,)"
      ]
     },
     "execution_count": 137,
     "metadata": {},
     "output_type": "execute_result"
    }
   ],
   "source": [
    "from sklearn.model_selection import train_test_split\n",
    "X_new_train,X_new_test,y_train,y_test=train_test_split(X_new,y,test_size=.30,random_state=1)\n",
    "y_test.shape\n"
   ]
  },
  {
   "cell_type": "markdown",
   "metadata": {},
   "source": [
    " ## Naive Bayes"
   ]
  },
  {
   "cell_type": "code",
   "execution_count": 138,
   "metadata": {},
   "outputs": [],
   "source": [
    "from sklearn.naive_bayes import GaussianNB\n",
    "naive=GaussianNB()\n",
    "naive.fit(X_new_train,y_train)\n",
    "predicted_naive=naive.predict(X_new_test)\n"
   ]
  },
  {
   "cell_type": "code",
   "execution_count": 139,
   "metadata": {},
   "outputs": [
    {
     "name": "stdout",
     "output_type": "stream",
     "text": [
      "0.7835497835497836\n"
     ]
    }
   ],
   "source": [
    "import sklearn.metrics as metrics\n",
    "cm_naive=metrics.confusion_matrix(y_test,predicted_naive)\n",
    "\n",
    "accuracy_naive=metrics.accuracy_score(y_test,predicted_naive)\n",
    "print(accuracy_naive)"
   ]
  },
  {
   "cell_type": "code",
   "execution_count": 140,
   "metadata": {},
   "outputs": [
    {
     "name": "stdout",
     "output_type": "stream",
     "text": [
      "[[128  18]\n",
      " [ 32  53]]\n"
     ]
    }
   ],
   "source": [
    "#print confusioin matrix\n",
    "print(cm_naive)"
   ]
  },
  {
   "cell_type": "code",
   "execution_count": 141,
   "metadata": {},
   "outputs": [
    {
     "data": {
      "text/plain": [
       "<sklearn.metrics._plot.confusion_matrix.ConfusionMatrixDisplay at 0x16951e10>"
      ]
     },
     "execution_count": 141,
     "metadata": {},
     "output_type": "execute_result"
    },
    {
     "data": {
      "image/png": "[encoded data removed]",
      "text/plain": [
       "<Figure size 432x288 with 2 Axes>"
      ]
     },
     "metadata": {
      "needs_background": "light"
     },
     "output_type": "display_data"
    }
   ],
   "source": [
    "from sklearn.metrics import ConfusionMatrixDisplay\n",
    "cmd_naive=ConfusionMatrixDisplay(cm_naive,display_labels=['0','1'])\n",
    "cmd_naive.plot()"
   ]
  },
  {
   "cell_type": "code",
   "execution_count": 142,
   "metadata": {},
   "outputs": [
    {
     "name": "stdout",
     "output_type": "stream",
     "text": [
      "              precision    recall  f1-score   support\n",
      "\n",
      "           0       0.80      0.88      0.84       146\n",
      "           1       0.75      0.62      0.68        85\n",
      "\n",
      "    accuracy                           0.78       231\n",
      "   macro avg       0.77      0.75      0.76       231\n",
      "weighted avg       0.78      0.78      0.78       231\n",
      "\n"
     ]
    }
   ],
   "source": [
    "#print precision,recall ,f1-score\n",
    "from sklearn.metrics import classification_report\n",
    "print(classification_report(y_test, predicted_naive))\n"
   ]
  },
  {
   "cell_type": "code",
   "execution_count": 143,
   "metadata": {},
   "outputs": [
    {
     "name": "stdout",
     "output_type": "stream",
     "text": [
      "[[7.12533997e-01 2.87466003e-01]\n",
      " [7.81094579e-01 2.18905421e-01]\n",
      " [9.21398913e-01 7.86010866e-02]\n",
      " [9.65519996e-01 3.44800043e-02]\n",
      " [8.36548013e-01 1.63451987e-01]\n",
      " [8.21859891e-01 1.78140109e-01]\n",
      " [8.11826800e-01 1.88173200e-01]\n",
      " [9.43850826e-01 5.61491744e-02]\n",
      " [8.83397441e-01 1.16602559e-01]\n",
      " [8.04137439e-01 1.95862561e-01]\n",
      " [4.93798114e-01 5.06201886e-01]\n",
      " [9.56582309e-01 4.34176910e-02]\n",
      " [9.76863937e-06 9.99990231e-01]\n",
      " [2.61068564e-01 7.38931436e-01]\n",
      " [6.87911834e-01 3.12088166e-01]\n",
      " [2.32916358e-01 7.67083642e-01]\n",
      " [8.59806334e-01 1.40193666e-01]\n",
      " [8.25770209e-01 1.74229791e-01]\n",
      " [4.74772645e-01 5.25227355e-01]\n",
      " [9.00956368e-01 9.90436320e-02]\n",
      " [6.76589277e-01 3.23410723e-01]\n",
      " [8.34478977e-01 1.65521023e-01]\n",
      " [2.44737129e-03 9.97552629e-01]\n",
      " [7.78956959e-01 2.21043041e-01]\n",
      " [9.61344026e-01 3.86559743e-02]\n",
      " [7.56531766e-01 2.43468234e-01]\n",
      " [7.64530481e-01 2.35469519e-01]\n",
      " [1.71230305e-01 8.28769695e-01]\n",
      " [9.17503484e-01 8.24965159e-02]\n",
      " [4.78345405e-01 5.21654595e-01]\n",
      " [6.48955771e-01 3.51044229e-01]\n",
      " [2.51048789e-01 7.48951211e-01]\n",
      " [9.69059393e-01 3.09406066e-02]\n",
      " [9.01752645e-02 9.09824735e-01]\n",
      " [9.19530441e-01 8.04695585e-02]\n",
      " [2.97012011e-01 7.02987989e-01]\n",
      " [9.42684371e-01 5.73156294e-02]\n",
      " [8.72450515e-01 1.27549485e-01]\n",
      " [9.08665733e-01 9.13342671e-02]\n",
      " [3.02683991e-01 6.97316009e-01]\n",
      " [8.06725336e-01 1.93274664e-01]\n",
      " [9.48193689e-01 5.18063108e-02]\n",
      " [9.73378467e-01 2.66215335e-02]\n",
      " [2.69834146e-01 7.30165854e-01]\n",
      " [9.59266986e-01 4.07330142e-02]\n",
      " [9.84040606e-01 1.59593942e-02]\n",
      " [1.44964545e-01 8.55035455e-01]\n",
      " [1.66577391e-01 8.33422609e-01]\n",
      " [9.53852125e-01 4.61478751e-02]\n",
      " [9.36423431e-01 6.35765687e-02]\n",
      " [8.45933013e-01 1.54066987e-01]\n",
      " [8.69767059e-01 1.30232941e-01]\n",
      " [9.23732057e-02 9.07626794e-01]\n",
      " [9.72911542e-01 2.70884583e-02]\n",
      " [1.03519290e-01 8.96480710e-01]\n",
      " [9.35195802e-01 6.48041982e-02]\n",
      " [9.21435175e-02 9.07856483e-01]\n",
      " [8.02181075e-01 1.97818925e-01]\n",
      " [6.36822354e-01 3.63177646e-01]\n",
      " [9.15345160e-01 8.46548404e-02]\n",
      " [2.36834604e-01 7.63165396e-01]\n",
      " [8.02739166e-01 1.97260834e-01]\n",
      " [3.39458991e-01 6.60541009e-01]\n",
      " [7.20823969e-01 2.79176031e-01]\n",
      " [4.80455288e-01 5.19544712e-01]\n",
      " [9.41577923e-01 5.84220766e-02]\n",
      " [9.62161911e-01 3.78380891e-02]\n",
      " [8.30853754e-01 1.69146246e-01]\n",
      " [1.54512804e-01 8.45487196e-01]\n",
      " [2.88201176e-01 7.11798824e-01]\n",
      " [8.55563637e-02 9.14443636e-01]\n",
      " [1.48544896e-01 8.51455104e-01]\n",
      " [5.01234270e-01 4.98765730e-01]\n",
      " [9.86477362e-01 1.35226385e-02]\n",
      " [3.70909021e-01 6.29090979e-01]\n",
      " [7.07685412e-01 2.92314588e-01]\n",
      " [4.03918008e-01 5.96081992e-01]\n",
      " [7.18483081e-01 2.81516919e-01]\n",
      " [8.97927462e-01 1.02072538e-01]\n",
      " [2.59606923e-01 7.40393077e-01]\n",
      " [1.51729941e-01 8.48270059e-01]\n",
      " [8.67945772e-01 1.32054228e-01]\n",
      " [7.68944181e-01 2.31055819e-01]\n",
      " [8.13746035e-01 1.86253965e-01]\n",
      " [6.00186003e-01 3.99813997e-01]\n",
      " [6.65080813e-02 9.33491919e-01]\n",
      " [4.29371893e-01 5.70628107e-01]\n",
      " [5.51950437e-01 4.48049563e-01]\n",
      " [4.36488123e-01 5.63511877e-01]\n",
      " [8.54147263e-01 1.45852737e-01]\n",
      " [9.12681124e-01 8.73188758e-02]\n",
      " [9.69329149e-01 3.06708513e-02]\n",
      " [8.21607991e-01 1.78392009e-01]\n",
      " [8.94102108e-01 1.05897892e-01]\n",
      " [3.38259614e-01 6.61740386e-01]\n",
      " [6.69929380e-01 3.30070620e-01]\n",
      " [8.54357695e-01 1.45642305e-01]\n",
      " [8.51418046e-01 1.48581954e-01]\n",
      " [3.68430448e-02 9.63156955e-01]\n",
      " [9.28760267e-01 7.12397333e-02]\n",
      " [9.10772239e-01 8.92277606e-02]\n",
      " [7.85045701e-01 2.14954299e-01]\n",
      " [1.93009818e-01 8.06990182e-01]\n",
      " [8.33269712e-01 1.66730288e-01]\n",
      " [9.36241767e-01 6.37582334e-02]\n",
      " [9.52966752e-01 4.70332482e-02]\n",
      " [6.31252155e-01 3.68747845e-01]\n",
      " [6.14719522e-01 3.85280478e-01]\n",
      " [8.61375022e-01 1.38624978e-01]\n",
      " [8.98186924e-01 1.01813076e-01]\n",
      " [6.82090894e-01 3.17909106e-01]\n",
      " [9.70106752e-01 2.98932483e-02]\n",
      " [6.30176608e-01 3.69823392e-01]\n",
      " [8.73089003e-01 1.26910997e-01]\n",
      " [9.37377948e-01 6.26220517e-02]\n",
      " [9.54221736e-01 4.57782636e-02]\n",
      " [9.36312313e-01 6.36876870e-02]\n",
      " [7.50015661e-01 2.49984339e-01]\n",
      " [6.43431490e-01 3.56568510e-01]\n",
      " [4.40999753e-01 5.59000247e-01]\n",
      " [8.38170460e-01 1.61829540e-01]\n",
      " [1.11933530e-01 8.88066470e-01]\n",
      " [7.99720917e-01 2.00279083e-01]\n",
      " [2.72393929e-01 7.27606071e-01]\n",
      " [8.95098281e-01 1.04901719e-01]\n",
      " [8.63965985e-01 1.36034015e-01]\n",
      " [8.20990572e-01 1.79009428e-01]\n",
      " [6.22733460e-01 3.77266540e-01]\n",
      " [5.56076947e-01 4.43923053e-01]\n",
      " [8.19409595e-01 1.80590405e-01]\n",
      " [3.31775019e-02 9.66822498e-01]\n",
      " [9.32433198e-01 6.75668019e-02]\n",
      " [3.38872545e-01 6.61127455e-01]\n",
      " [7.94474152e-01 2.05525848e-01]\n",
      " [8.83082725e-01 1.16917275e-01]\n",
      " [8.55258002e-01 1.44741998e-01]\n",
      " [9.42282862e-01 5.77171381e-02]\n",
      " [3.89035943e-01 6.10964057e-01]\n",
      " [8.91945789e-01 1.08054211e-01]\n",
      " [8.61282015e-01 1.38717985e-01]\n",
      " [6.64466123e-03 9.93355339e-01]\n",
      " [9.40474146e-01 5.95258543e-02]\n",
      " [9.02118538e-01 9.78814619e-02]\n",
      " [2.32499740e-01 7.67500260e-01]\n",
      " [4.66154792e-01 5.33845208e-01]\n",
      " [3.03023163e-01 6.96976837e-01]\n",
      " [9.61356352e-01 3.86436480e-02]\n",
      " [9.60703068e-01 3.92969321e-02]\n",
      " [8.09908660e-01 1.90091340e-01]\n",
      " [9.28070720e-01 7.19292803e-02]\n",
      " [7.96867670e-01 2.03132330e-01]\n",
      " [2.98706627e-02 9.70129337e-01]\n",
      " [9.25788946e-01 7.42110542e-02]\n",
      " [3.24254815e-01 6.75745185e-01]\n",
      " [1.73471374e-01 8.26528626e-01]\n",
      " [2.80689061e-01 7.19310939e-01]\n",
      " [7.70365280e-01 2.29634720e-01]\n",
      " [8.19847687e-01 1.80152313e-01]\n",
      " [7.54766061e-01 2.45233939e-01]\n",
      " [7.65571707e-01 2.34428293e-01]\n",
      " [2.90944755e-01 7.09055245e-01]\n",
      " [5.12596014e-01 4.87403986e-01]\n",
      " [8.01949367e-01 1.98050633e-01]\n",
      " [9.77807275e-01 2.21927253e-02]\n",
      " [4.77163860e-01 5.22836140e-01]\n",
      " [6.91900186e-01 3.08099814e-01]\n",
      " [7.96595952e-01 2.03404048e-01]\n",
      " [3.42725710e-01 6.57274290e-01]\n",
      " [3.27801392e-01 6.72198608e-01]\n",
      " [3.76623859e-01 6.23376141e-01]\n",
      " [5.78636839e-02 9.42136316e-01]\n",
      " [4.12203051e-01 5.87796949e-01]\n",
      " [8.40609005e-01 1.59390995e-01]\n",
      " [9.56344076e-01 4.36559235e-02]\n",
      " [3.51698861e-01 6.48301139e-01]\n",
      " [7.95106167e-01 2.04893833e-01]\n",
      " [3.35669780e-02 9.66433022e-01]\n",
      " [9.08126051e-01 9.18739489e-02]\n",
      " [9.26466778e-01 7.35332222e-02]\n",
      " [8.92580603e-01 1.07419397e-01]\n",
      " [6.14883195e-01 3.85116805e-01]\n",
      " [3.15395886e-01 6.84604114e-01]\n",
      " [9.23595729e-01 7.64042710e-02]\n",
      " [3.32080851e-02 9.66791915e-01]\n",
      " [9.80130434e-01 1.98695660e-02]\n",
      " [9.44676296e-01 5.53237036e-02]\n",
      " [9.61123225e-01 3.88767745e-02]\n",
      " [8.70561340e-02 9.12943866e-01]\n",
      " [6.77983393e-01 3.22016607e-01]\n",
      " [8.59394457e-01 1.40605543e-01]\n",
      " [6.61125016e-01 3.38874984e-01]\n",
      " [9.67125660e-01 3.28743395e-02]\n",
      " [9.44901820e-01 5.50981802e-02]\n",
      " [9.29856001e-01 7.01439990e-02]\n",
      " [2.24219195e-01 7.75780805e-01]\n",
      " [9.38522431e-01 6.14775690e-02]\n",
      " [6.31056949e-01 3.68943051e-01]\n",
      " [9.32552239e-01 6.74477613e-02]\n",
      " [7.77799778e-01 2.22200222e-01]\n",
      " [3.55644932e-01 6.44355068e-01]\n",
      " [7.36387638e-02 9.26361236e-01]\n",
      " [5.59009735e-01 4.40990265e-01]\n",
      " [9.41736545e-01 5.82634550e-02]\n",
      " [9.40059837e-01 5.99401627e-02]\n",
      " [5.37094786e-01 4.62905214e-01]\n",
      " [8.45473224e-02 9.15452678e-01]\n",
      " [9.65547244e-01 3.44527563e-02]\n",
      " [9.00216645e-01 9.97833554e-02]\n",
      " [8.74209270e-01 1.25790730e-01]\n",
      " [9.24918070e-02 9.07508193e-01]\n",
      " [9.63448000e-01 3.65520002e-02]\n",
      " [7.39040837e-01 2.60959163e-01]\n",
      " [8.78146707e-01 1.21853293e-01]\n",
      " [8.97234253e-02 9.10276575e-01]\n",
      " [3.30718164e-01 6.69281836e-01]\n",
      " [5.88083285e-01 4.11916715e-01]\n",
      " [8.45712916e-01 1.54287084e-01]\n",
      " [9.78524325e-01 2.14756753e-02]\n",
      " [7.76041214e-01 2.23958786e-01]\n",
      " [7.04005570e-01 2.95994430e-01]\n",
      " [9.04668969e-01 9.53310307e-02]\n",
      " [4.31627713e-01 5.68372287e-01]\n",
      " [9.67540036e-01 3.24599636e-02]\n",
      " [3.41924609e-03 9.96580754e-01]\n",
      " [8.17800502e-01 1.82199498e-01]\n",
      " [7.96609220e-01 2.03390780e-01]\n",
      " [9.26055697e-01 7.39443026e-02]\n",
      " [9.20800228e-01 7.91997721e-02]\n",
      " [9.69015407e-01 3.09845935e-02]\n",
      " [9.81315498e-02 9.01868450e-01]\n",
      " [6.74877033e-01 3.25122967e-01]]\n"
     ]
    },
    {
     "data": {
      "image/png": "[encoded data removed]",
      "text/plain": [
       "<Figure size 432x288 with 1 Axes>"
      ]
     },
     "metadata": {
      "needs_background": "light"
     },
     "output_type": "display_data"
    }
   ],
   "source": [
    "from sklearn.metrics import precision_recall_curve\n",
    "from sklearn.metrics import f1_score\n",
    "from sklearn.metrics import auc\n",
    "# predict probabilities\n",
    "naive_probs = naive.predict_proba(X_new_test)\n",
    "print(naive_probs)\n",
    "# keep probabilities for the positive outcome only\n",
    "naive_probs = naive_probs[:, 1]\n",
    "# predict class values\n",
    "predicted_naive = naive.predict(X_new_test)\n",
    "naive_precision, naive_recall, _ = precision_recall_curve(y_test, naive_probs)\n",
    "naive_f1, naive_auc = f1_score(y_test, predicted_naive), auc(naive_recall, naive_precision)\n",
    "# summarize scores\n",
    "#print('Naive Bayes: f1=%.3f auc=%.3f' % (naive_f1, naive_auc))\n",
    "# plot the precision-recall curves\n",
    "plt.plot(naive_recall, naive_precision, marker='.', label='Naive bayes')\n",
    "# axis labels\n",
    "plt.xlabel('Recall')\n",
    "plt.ylabel('Precision')\n",
    "# show the legend\n",
    "plt.legend()\n",
    "# show the plot\n",
    "plt.show()\n"
   ]
  },
  {
   "cell_type": "code",
   "execution_count": 144,
   "metadata": {},
   "outputs": [
    {
     "data": {
      "image/png": "[encoded data removed]",
      "text/plain": [
       "<Figure size 432x288 with 1 Axes>"
      ]
     },
     "metadata": {
      "needs_background": "light"
     },
     "output_type": "display_data"
    }
   ],
   "source": [
    "# calculate roc curves\n",
    "from sklearn.metrics import roc_curve\n",
    "naive_fpr, naive_tpr, _ = roc_curve(y_test, naive_probs)\n",
    "# plot the roc curve for the model\n",
    "plt.plot(naive_fpr, naive_tpr, marker='.', label='Naive Bayes')\n",
    "# axis labels\n",
    "plt.xlabel('False Positive Rate')\n",
    "plt.ylabel('True Positive Rate')\n",
    "# show the legend\n",
    "plt.legend()\n",
    "# show the plot\n",
    "plt.show()\n"
   ]
  },
  {
   "cell_type": "markdown",
   "metadata": {},
   "source": [
    "## K-nearest neighbor"
   ]
  },
  {
   "cell_type": "code",
   "execution_count": 145,
   "metadata": {},
   "outputs": [
    {
     "data": {
      "text/plain": [
       "KNeighborsClassifier(n_neighbors=11)"
      ]
     },
     "execution_count": 145,
     "metadata": {},
     "output_type": "execute_result"
    }
   ],
   "source": [
    "from sklearn.neighbors import KNeighborsClassifier\n",
    "knn=KNeighborsClassifier(n_neighbors=11)\n",
    "knn.fit(X_new_train,y_train)"
   ]
  },
  {
   "cell_type": "code",
   "execution_count": 146,
   "metadata": {},
   "outputs": [],
   "source": [
    "predicted_knn=knn.predict(X_new_test)"
   ]
  },
  {
   "cell_type": "code",
   "execution_count": 147,
   "metadata": {},
   "outputs": [
    {
     "name": "stdout",
     "output_type": "stream",
     "text": [
      "0.7662337662337663\n"
     ]
    }
   ],
   "source": [
    "import sklearn.metrics as metrics\n",
    "cm_knn=metrics.confusion_matrix(y_test,predicted_knn)\n",
    "accuracy_knn=metrics.accuracy_score(y_test,predicted_knn)\n",
    "print(accuracy_knn)"
   ]
  },
  {
   "cell_type": "code",
   "execution_count": 148,
   "metadata": {},
   "outputs": [
    {
     "name": "stdout",
     "output_type": "stream",
     "text": [
      "[[134  12]\n",
      " [ 42  43]]\n"
     ]
    }
   ],
   "source": [
    "#print confusion matrix\n",
    "print(cm_knn)"
   ]
  },
  {
   "cell_type": "code",
   "execution_count": 149,
   "metadata": {},
   "outputs": [
    {
     "data": {
      "text/plain": [
       "<sklearn.metrics._plot.confusion_matrix.ConfusionMatrixDisplay at 0x16a74e10>"
      ]
     },
     "execution_count": 149,
     "metadata": {},
     "output_type": "execute_result"
    },
    {
     "data": {
      "image/png": "[encoded data removed]",
      "text/plain": [
       "<Figure size 432x288 with 2 Axes>"
      ]
     },
     "metadata": {
      "needs_background": "light"
     },
     "output_type": "display_data"
    }
   ],
   "source": [
    "from sklearn.metrics import ConfusionMatrixDisplay\n",
    "cmd_knn=ConfusionMatrixDisplay(cm_knn,display_labels=['0','1'])\n",
    "cmd_knn.plot()"
   ]
  },
  {
   "cell_type": "code",
   "execution_count": 150,
   "metadata": {},
   "outputs": [
    {
     "name": "stdout",
     "output_type": "stream",
     "text": [
      "              precision    recall  f1-score   support\n",
      "\n",
      "           0       0.76      0.92      0.83       146\n",
      "           1       0.78      0.51      0.61        85\n",
      "\n",
      "    accuracy                           0.77       231\n",
      "   macro avg       0.77      0.71      0.72       231\n",
      "weighted avg       0.77      0.77      0.75       231\n",
      "\n"
     ]
    }
   ],
   "source": [
    "from sklearn.metrics import classification_report\n",
    "print(classification_report(y_test,predicted_knn))"
   ]
  },
  {
   "cell_type": "code",
   "execution_count": 151,
   "metadata": {},
   "outputs": [
    {
     "name": "stdout",
     "output_type": "stream",
     "text": [
      "[[0.54545455 0.45454545]\n",
      " [0.63636364 0.36363636]\n",
      " [0.90909091 0.09090909]\n",
      " [0.90909091 0.09090909]\n",
      " [0.72727273 0.27272727]\n",
      " [0.72727273 0.27272727]\n",
      " [0.36363636 0.63636364]\n",
      " [0.72727273 0.27272727]\n",
      " [0.72727273 0.27272727]\n",
      " [0.63636364 0.36363636]\n",
      " [0.63636364 0.36363636]\n",
      " [1.         0.        ]\n",
      " [0.27272727 0.72727273]\n",
      " [0.36363636 0.63636364]\n",
      " [0.90909091 0.09090909]\n",
      " [0.36363636 0.63636364]\n",
      " [0.72727273 0.27272727]\n",
      " [0.72727273 0.27272727]\n",
      " [0.72727273 0.27272727]\n",
      " [1.         0.        ]\n",
      " [0.45454545 0.54545455]\n",
      " [1.         0.        ]\n",
      " [0.36363636 0.63636364]\n",
      " [0.81818182 0.18181818]\n",
      " [1.         0.        ]\n",
      " [0.63636364 0.36363636]\n",
      " [0.81818182 0.18181818]\n",
      " [0.09090909 0.90909091]\n",
      " [0.72727273 0.27272727]\n",
      " [0.54545455 0.45454545]\n",
      " [0.63636364 0.36363636]\n",
      " [0.72727273 0.27272727]\n",
      " [1.         0.        ]\n",
      " [0.09090909 0.90909091]\n",
      " [0.81818182 0.18181818]\n",
      " [0.54545455 0.45454545]\n",
      " [1.         0.        ]\n",
      " [0.72727273 0.27272727]\n",
      " [0.81818182 0.18181818]\n",
      " [0.63636364 0.36363636]\n",
      " [0.81818182 0.18181818]\n",
      " [0.81818182 0.18181818]\n",
      " [1.         0.        ]\n",
      " [0.63636364 0.36363636]\n",
      " [0.90909091 0.09090909]\n",
      " [1.         0.        ]\n",
      " [0.09090909 0.90909091]\n",
      " [0.18181818 0.81818182]\n",
      " [0.90909091 0.09090909]\n",
      " [0.90909091 0.09090909]\n",
      " [0.81818182 0.18181818]\n",
      " [0.81818182 0.18181818]\n",
      " [0.         1.        ]\n",
      " [1.         0.        ]\n",
      " [0.54545455 0.45454545]\n",
      " [0.81818182 0.18181818]\n",
      " [0.27272727 0.72727273]\n",
      " [0.63636364 0.36363636]\n",
      " [0.63636364 0.36363636]\n",
      " [0.90909091 0.09090909]\n",
      " [0.54545455 0.45454545]\n",
      " [0.81818182 0.18181818]\n",
      " [0.54545455 0.45454545]\n",
      " [0.81818182 0.18181818]\n",
      " [0.63636364 0.36363636]\n",
      " [0.81818182 0.18181818]\n",
      " [1.         0.        ]\n",
      " [0.45454545 0.54545455]\n",
      " [0.27272727 0.72727273]\n",
      " [0.27272727 0.72727273]\n",
      " [0.09090909 0.90909091]\n",
      " [0.54545455 0.45454545]\n",
      " [0.45454545 0.54545455]\n",
      " [0.90909091 0.09090909]\n",
      " [0.45454545 0.54545455]\n",
      " [0.45454545 0.54545455]\n",
      " [0.27272727 0.72727273]\n",
      " [0.45454545 0.54545455]\n",
      " [0.81818182 0.18181818]\n",
      " [0.54545455 0.45454545]\n",
      " [0.27272727 0.72727273]\n",
      " [0.72727273 0.27272727]\n",
      " [0.54545455 0.45454545]\n",
      " [0.36363636 0.63636364]\n",
      " [0.81818182 0.18181818]\n",
      " [0.09090909 0.90909091]\n",
      " [0.72727273 0.27272727]\n",
      " [0.63636364 0.36363636]\n",
      " [0.54545455 0.45454545]\n",
      " [0.72727273 0.27272727]\n",
      " [0.72727273 0.27272727]\n",
      " [0.90909091 0.09090909]\n",
      " [0.54545455 0.45454545]\n",
      " [0.72727273 0.27272727]\n",
      " [0.         1.        ]\n",
      " [0.54545455 0.45454545]\n",
      " [0.63636364 0.36363636]\n",
      " [0.81818182 0.18181818]\n",
      " [0.54545455 0.45454545]\n",
      " [0.81818182 0.18181818]\n",
      " [0.81818182 0.18181818]\n",
      " [0.81818182 0.18181818]\n",
      " [0.27272727 0.72727273]\n",
      " [0.63636364 0.36363636]\n",
      " [0.90909091 0.09090909]\n",
      " [0.72727273 0.27272727]\n",
      " [0.54545455 0.45454545]\n",
      " [0.63636364 0.36363636]\n",
      " [0.63636364 0.36363636]\n",
      " [0.81818182 0.18181818]\n",
      " [0.36363636 0.63636364]\n",
      " [1.         0.        ]\n",
      " [0.45454545 0.54545455]\n",
      " [0.81818182 0.18181818]\n",
      " [1.         0.        ]\n",
      " [1.         0.        ]\n",
      " [0.81818182 0.18181818]\n",
      " [0.81818182 0.18181818]\n",
      " [0.90909091 0.09090909]\n",
      " [0.72727273 0.27272727]\n",
      " [1.         0.        ]\n",
      " [0.27272727 0.72727273]\n",
      " [0.81818182 0.18181818]\n",
      " [0.63636364 0.36363636]\n",
      " [0.63636364 0.36363636]\n",
      " [0.81818182 0.18181818]\n",
      " [0.72727273 0.27272727]\n",
      " [0.63636364 0.36363636]\n",
      " [0.72727273 0.27272727]\n",
      " [0.90909091 0.09090909]\n",
      " [0.09090909 0.90909091]\n",
      " [0.81818182 0.18181818]\n",
      " [0.63636364 0.36363636]\n",
      " [0.54545455 0.45454545]\n",
      " [0.90909091 0.09090909]\n",
      " [0.63636364 0.36363636]\n",
      " [1.         0.        ]\n",
      " [0.54545455 0.45454545]\n",
      " [0.72727273 0.27272727]\n",
      " [0.81818182 0.18181818]\n",
      " [0.09090909 0.90909091]\n",
      " [0.90909091 0.09090909]\n",
      " [0.54545455 0.45454545]\n",
      " [0.27272727 0.72727273]\n",
      " [0.63636364 0.36363636]\n",
      " [0.54545455 0.45454545]\n",
      " [0.90909091 0.09090909]\n",
      " [0.90909091 0.09090909]\n",
      " [0.72727273 0.27272727]\n",
      " [0.81818182 0.18181818]\n",
      " [0.54545455 0.45454545]\n",
      " [0.27272727 0.72727273]\n",
      " [0.81818182 0.18181818]\n",
      " [0.72727273 0.27272727]\n",
      " [0.63636364 0.36363636]\n",
      " [0.54545455 0.45454545]\n",
      " [0.63636364 0.36363636]\n",
      " [0.63636364 0.36363636]\n",
      " [0.81818182 0.18181818]\n",
      " [0.72727273 0.27272727]\n",
      " [0.18181818 0.81818182]\n",
      " [0.63636364 0.36363636]\n",
      " [0.72727273 0.27272727]\n",
      " [1.         0.        ]\n",
      " [0.72727273 0.27272727]\n",
      " [0.72727273 0.27272727]\n",
      " [0.63636364 0.36363636]\n",
      " [0.45454545 0.54545455]\n",
      " [0.36363636 0.63636364]\n",
      " [0.36363636 0.63636364]\n",
      " [0.18181818 0.81818182]\n",
      " [0.45454545 0.54545455]\n",
      " [0.81818182 0.18181818]\n",
      " [1.         0.        ]\n",
      " [0.09090909 0.90909091]\n",
      " [0.81818182 0.18181818]\n",
      " [0.36363636 0.63636364]\n",
      " [0.72727273 0.27272727]\n",
      " [0.72727273 0.27272727]\n",
      " [0.72727273 0.27272727]\n",
      " [0.72727273 0.27272727]\n",
      " [0.09090909 0.90909091]\n",
      " [0.72727273 0.27272727]\n",
      " [0.18181818 0.81818182]\n",
      " [1.         0.        ]\n",
      " [1.         0.        ]\n",
      " [1.         0.        ]\n",
      " [0.36363636 0.63636364]\n",
      " [0.72727273 0.27272727]\n",
      " [0.81818182 0.18181818]\n",
      " [0.90909091 0.09090909]\n",
      " [1.         0.        ]\n",
      " [0.90909091 0.09090909]\n",
      " [0.81818182 0.18181818]\n",
      " [0.09090909 0.90909091]\n",
      " [0.81818182 0.18181818]\n",
      " [0.72727273 0.27272727]\n",
      " [0.90909091 0.09090909]\n",
      " [0.63636364 0.36363636]\n",
      " [0.27272727 0.72727273]\n",
      " [0.18181818 0.81818182]\n",
      " [0.36363636 0.63636364]\n",
      " [0.63636364 0.36363636]\n",
      " [1.         0.        ]\n",
      " [0.36363636 0.63636364]\n",
      " [0.36363636 0.63636364]\n",
      " [0.90909091 0.09090909]\n",
      " [0.81818182 0.18181818]\n",
      " [0.72727273 0.27272727]\n",
      " [0.36363636 0.63636364]\n",
      " [1.         0.        ]\n",
      " [0.72727273 0.27272727]\n",
      " [0.63636364 0.36363636]\n",
      " [0.27272727 0.72727273]\n",
      " [0.81818182 0.18181818]\n",
      " [0.63636364 0.36363636]\n",
      " [0.63636364 0.36363636]\n",
      " [1.         0.        ]\n",
      " [0.63636364 0.36363636]\n",
      " [0.72727273 0.27272727]\n",
      " [1.         0.        ]\n",
      " [0.72727273 0.27272727]\n",
      " [1.         0.        ]\n",
      " [0.09090909 0.90909091]\n",
      " [0.54545455 0.45454545]\n",
      " [0.45454545 0.54545455]\n",
      " [0.90909091 0.09090909]\n",
      " [0.90909091 0.09090909]\n",
      " [1.         0.        ]\n",
      " [0.36363636 0.63636364]\n",
      " [0.54545455 0.45454545]]\n",
      "KNN: f1= 0.614 auc= 0.760\n"
     ]
    },
    {
     "data": {
      "image/png": "[encoded data removed]",
      "text/plain": [
       "<Figure size 432x288 with 1 Axes>"
      ]
     },
     "metadata": {
      "needs_background": "light"
     },
     "output_type": "display_data"
    }
   ],
   "source": [
    "from sklearn.metrics import precision_recall_curve\n",
    "from sklearn.metrics import f1_score\n",
    "from sklearn.metrics import auc\n",
    "# predict probabilities\n",
    "knn_probs = knn.predict_proba(X_new_test)\n",
    "print(knn_probs)\n",
    "# keep probabilities for the positive outcome only\n",
    "knn_probs = knn_probs[:, 1]\n",
    "# predict class values\n",
    "predicted_knn = knn.predict(X_new_test)\n",
    "knn_precision, knn_recall, _ = precision_recall_curve(y_test, knn_probs)\n",
    "knn_f1, knn_auc = f1_score(y_test, predicted_knn), auc(knn_recall, knn_precision)\n",
    "#summerise scores\n",
    "print('KNN: f1= %.3f auc= %.3f' %(knn_f1,knn_auc))\n",
    "# plot the precision-recall curves\n",
    "plt.plot(knn_recall, knn_precision, marker='.', label='KNN')\n",
    "# axis labels\n",
    "plt.xlabel('Recall')\n",
    "plt.ylabel('Precision')\n",
    "# show the legend\n",
    "plt.legend()\n",
    "# show the plot\n",
    "plt.show()\n",
    "\n",
    "\n"
   ]
  },
  {
   "cell_type": "code",
   "execution_count": 152,
   "metadata": {},
   "outputs": [
    {
     "data": {
      "image/png": "[encoded data removed]",
      "text/plain": [
       "<Figure size 432x288 with 1 Axes>"
      ]
     },
     "metadata": {
      "needs_background": "light"
     },
     "output_type": "display_data"
    }
   ],
   "source": [
    "# calculate roc curves\n",
    "from sklearn.metrics import roc_curve\n",
    "knn_fpr, knn_tpr, _ = roc_curve(y_test, knn_probs)\n",
    "# plot the roc curve for the model\n",
    "plt.plot(knn_fpr, knn_tpr, marker='.', label='KNN')\n",
    "# axis labels\n",
    "plt.xlabel('False Positive Rate')\n",
    "plt.ylabel('True Positive Rate')\n",
    "# show the legend\n",
    "plt.legend()\n",
    "# show the plot\n",
    "plt.show()\n"
   ]
  },
  {
   "cell_type": "code",
   "execution_count": null,
   "metadata": {},
   "outputs": [],
   "source": []
  },
  {
   "cell_type": "markdown",
   "metadata": {},
   "source": [
    "## Decision Tree"
   ]
  },
  {
   "cell_type": "code",
   "execution_count": 153,
   "metadata": {},
   "outputs": [
    {
     "data": {
      "text/plain": [
       "DecisionTreeClassifier()"
      ]
     },
     "execution_count": 153,
     "metadata": {},
     "output_type": "execute_result"
    }
   ],
   "source": [
    "from sklearn.tree import DecisionTreeClassifier\n",
    "d_tree=DecisionTreeClassifier()\n",
    "d_tree.fit(X_new_train,y_train)"
   ]
  },
  {
   "cell_type": "code",
   "execution_count": 154,
   "metadata": {},
   "outputs": [
    {
     "data": {
      "text/plain": [
       "(231,)"
      ]
     },
     "execution_count": 154,
     "metadata": {},
     "output_type": "execute_result"
    }
   ],
   "source": [
    "predicted_d_tree=d_tree.predict(X_new_test)\n",
    "#print(predicted_d_tree)\n",
    "y_test.shape"
   ]
  },
  {
   "cell_type": "code",
   "execution_count": 155,
   "metadata": {},
   "outputs": [
    {
     "name": "stdout",
     "output_type": "stream",
     "text": [
      "0.6233766233766234\n"
     ]
    }
   ],
   "source": [
    "cm_tree=metrics.confusion_matrix(y_test,predicted_d_tree)\n",
    "accuracy_tree=metrics.accuracy_score(y_test,predicted_d_tree)\n",
    "print(accuracy_tree)"
   ]
  },
  {
   "cell_type": "code",
   "execution_count": 156,
   "metadata": {},
   "outputs": [
    {
     "name": "stdout",
     "output_type": "stream",
     "text": [
      "[[103  43]\n",
      " [ 44  41]]\n"
     ]
    }
   ],
   "source": [
    "print(cm_tree)"
   ]
  },
  {
   "cell_type": "code",
   "execution_count": 157,
   "metadata": {},
   "outputs": [
    {
     "data": {
      "text/plain": [
       "<sklearn.metrics._plot.confusion_matrix.ConfusionMatrixDisplay at 0x16af8518>"
      ]
     },
     "execution_count": 157,
     "metadata": {},
     "output_type": "execute_result"
    },
    {
     "data": {
      "image/png": "[encoded data removed]",
      "text/plain": [
       "<Figure size 432x288 with 2 Axes>"
      ]
     },
     "metadata": {
      "needs_background": "light"
     },
     "output_type": "display_data"
    }
   ],
   "source": [
    "from sklearn.metrics import ConfusionMatrixDisplay\n",
    "cmd_tree=ConfusionMatrixDisplay(cm_tree,display_labels=['0','1'])\n",
    "cmd_tree.plot()"
   ]
  },
  {
   "cell_type": "code",
   "execution_count": 158,
   "metadata": {},
   "outputs": [
    {
     "name": "stdout",
     "output_type": "stream",
     "text": [
      "              precision    recall  f1-score   support\n",
      "\n",
      "           0       0.70      0.71      0.70       146\n",
      "           1       0.49      0.48      0.49        85\n",
      "\n",
      "    accuracy                           0.62       231\n",
      "   macro avg       0.59      0.59      0.59       231\n",
      "weighted avg       0.62      0.62      0.62       231\n",
      "\n"
     ]
    }
   ],
   "source": [
    "from  sklearn.metrics import classification_report\n",
    "print(classification_report(y_test,predicted_d_tree))\n",
    "#plot_classification_report(classification_report(y_test,predicted_d_tree))"
   ]
  },
  {
   "cell_type": "markdown",
   "metadata": {},
   "source": [
    "## RandomForestClassifier"
   ]
  },
  {
   "cell_type": "code",
   "execution_count": 159,
   "metadata": {},
   "outputs": [
    {
     "data": {
      "text/plain": [
       "RandomForestClassifier()"
      ]
     },
     "execution_count": 159,
     "metadata": {},
     "output_type": "execute_result"
    }
   ],
   "source": [
    "from sklearn.ensemble import RandomForestClassifier\n",
    "rf=RandomForestClassifier()\n",
    "rf.fit(X_new_train,y_train)"
   ]
  },
  {
   "cell_type": "code",
   "execution_count": 160,
   "metadata": {},
   "outputs": [
    {
     "data": {
      "text/plain": [
       "(231,)"
      ]
     },
     "execution_count": 160,
     "metadata": {},
     "output_type": "execute_result"
    }
   ],
   "source": [
    "y_test.shape"
   ]
  },
  {
   "cell_type": "code",
   "execution_count": 161,
   "metadata": {},
   "outputs": [
    {
     "name": "stdout",
     "output_type": "stream",
     "text": [
      "0.7489177489177489\n"
     ]
    }
   ],
   "source": [
    "import sklearn.metrics as metrics\n",
    "predicted_rf=rf.predict(X_new_test)\n",
    "cm_rf=metrics.confusion_matrix(y_test,predicted_rf)\n",
    "accuracy_rf=metrics.accuracy_score(y_test,predicted_rf)\n",
    "print(accuracy_rf)"
   ]
  },
  {
   "cell_type": "code",
   "execution_count": 162,
   "metadata": {},
   "outputs": [
    {
     "name": "stdout",
     "output_type": "stream",
     "text": [
      "[[126  20]\n",
      " [ 38  47]]\n"
     ]
    }
   ],
   "source": [
    "print(cm_rf)\n"
   ]
  },
  {
   "cell_type": "code",
   "execution_count": 163,
   "metadata": {},
   "outputs": [
    {
     "data": {
      "text/plain": [
       "<sklearn.metrics._plot.confusion_matrix.ConfusionMatrixDisplay at 0x16a83518>"
      ]
     },
     "execution_count": 163,
     "metadata": {},
     "output_type": "execute_result"
    },
    {
     "data": {
      "image/png": "[encoded data removed]",
      "text/plain": [
       "<Figure size 432x288 with 2 Axes>"
      ]
     },
     "metadata": {
      "needs_background": "light"
     },
     "output_type": "display_data"
    }
   ],
   "source": [
    "from sklearn.metrics import ConfusionMatrixDisplay\n",
    "cmd_rf=ConfusionMatrixDisplay(cm_rf,display_labels=['0','1'])\n",
    "cmd_rf.plot()"
   ]
  },
  {
   "cell_type": "code",
   "execution_count": 164,
   "metadata": {},
   "outputs": [
    {
     "name": "stdout",
     "output_type": "stream",
     "text": [
      "              precision    recall  f1-score   support\n",
      "\n",
      "           0       0.77      0.86      0.81       146\n",
      "           1       0.70      0.55      0.62        85\n",
      "\n",
      "    accuracy                           0.75       231\n",
      "   macro avg       0.73      0.71      0.72       231\n",
      "weighted avg       0.74      0.75      0.74       231\n",
      "\n"
     ]
    }
   ],
   "source": [
    "from sklearn.metrics import classification_report\n",
    "print(classification_report(y_test,predicted_rf))"
   ]
  },
  {
   "cell_type": "markdown",
   "metadata": {},
   "source": [
    "## Logistic Regression"
   ]
  },
  {
   "cell_type": "markdown",
   "metadata": {},
   "source": []
  },
  {
   "cell_type": "code",
   "execution_count": 165,
   "metadata": {},
   "outputs": [
    {
     "data": {
      "text/plain": [
       "LogisticRegression()"
      ]
     },
     "execution_count": 165,
     "metadata": {},
     "output_type": "execute_result"
    }
   ],
   "source": [
    "from sklearn.linear_model import LogisticRegression\n",
    "lr=LogisticRegression()\n",
    "lr.fit(X_new_train,y_train)"
   ]
  },
  {
   "cell_type": "code",
   "execution_count": 166,
   "metadata": {},
   "outputs": [
    {
     "name": "stdout",
     "output_type": "stream",
     "text": [
      "[0 0 0 0 0 0 0 0 0 0 0 0 1 1 0 1 0 0 0 0 0 0 1 0 0 0 0 1 0 1 0 0 0 1 0 1 0\n",
      " 0 0 1 0 0 0 0 0 0 1 1 0 0 0 0 1 0 1 0 1 0 0 0 1 0 1 0 0 0 0 0 1 1 1 1 1 0\n",
      " 1 0 1 0 0 1 1 0 0 0 0 1 1 0 0 0 0 0 0 0 1 0 0 0 1 0 0 0 1 0 0 0 1 1 0 0 0\n",
      " 0 0 0 0 0 0 0 0 0 0 1 0 0 0 0 0 0 1 0 1 0 0 0 0 0 0 1 0 0 1 0 0 1 1 0 0 0\n",
      " 0 0 0 1 0 0 1 1 0 0 0 0 1 1 0 0 0 0 0 1 1 1 1 1 0 0 1 0 1 0 0 0 0 1 0 1 0\n",
      " 0 0 1 0 0 0 0 0 0 1 0 0 0 0 1 1 0 0 0 1 1 0 0 0 1 0 0 0 1 0 0 0 0 0 0 0 0\n",
      " 0 1 0 0 0 0 0 1 0]\n"
     ]
    }
   ],
   "source": [
    "predicted_lr=lr.predict(X_new_test)\n",
    "print(predicted_lr)"
   ]
  },
  {
   "cell_type": "code",
   "execution_count": 167,
   "metadata": {},
   "outputs": [
    {
     "name": "stdout",
     "output_type": "stream",
     "text": [
      "0.7922077922077922\n"
     ]
    }
   ],
   "source": [
    "import sklearn.metrics as metrics\n",
    "cm_lr=metrics.confusion_matrix(y_test,predicted_lr)\n",
    "accuracy_lr=metrics.accuracy_score(y_test,predicted_lr)\n",
    "print(accuracy_lr)"
   ]
  },
  {
   "cell_type": "code",
   "execution_count": 168,
   "metadata": {},
   "outputs": [
    {
     "data": {
      "text/plain": [
       "<sklearn.metrics._plot.confusion_matrix.ConfusionMatrixDisplay at 0x16948940>"
      ]
     },
     "execution_count": 168,
     "metadata": {},
     "output_type": "execute_result"
    },
    {
     "data": {
      "image/png": "[encoded data removed]",
      "text/plain": [
       "<Figure size 432x288 with 2 Axes>"
      ]
     },
     "metadata": {
      "needs_background": "light"
     },
     "output_type": "display_data"
    }
   ],
   "source": [
    "from sklearn.metrics import ConfusionMatrixDisplay\n",
    "cmd_lr=ConfusionMatrixDisplay(cm_lr,display_labels=['0','1'])\n",
    "cmd_lr.plot()"
   ]
  },
  {
   "cell_type": "code",
   "execution_count": 169,
   "metadata": {},
   "outputs": [
    {
     "name": "stdout",
     "output_type": "stream",
     "text": [
      "              precision    recall  f1-score   support\n",
      "\n",
      "           0       0.79      0.91      0.85       146\n",
      "           1       0.79      0.59      0.68        85\n",
      "\n",
      "    accuracy                           0.79       231\n",
      "   macro avg       0.79      0.75      0.76       231\n",
      "weighted avg       0.79      0.79      0.78       231\n",
      "\n"
     ]
    }
   ],
   "source": [
    "from sklearn.metrics import classification_report\n",
    "print(classification_report(y_test,predicted_lr))"
   ]
  },
  {
   "cell_type": "markdown",
   "metadata": {},
   "source": [
    "## SVM classifer"
   ]
  },
  {
   "cell_type": "code",
   "execution_count": 170,
   "metadata": {},
   "outputs": [
    {
     "data": {
      "text/plain": [
       "SVC(kernel='linear')"
      ]
     },
     "execution_count": 170,
     "metadata": {},
     "output_type": "execute_result"
    }
   ],
   "source": [
    "from sklearn import svm\n",
    "clf=svm.SVC(kernel='linear')\n",
    "clf.fit(X_new_train,y_train)\n"
   ]
  },
  {
   "cell_type": "code",
   "execution_count": 171,
   "metadata": {},
   "outputs": [
    {
     "name": "stdout",
     "output_type": "stream",
     "text": [
      "0.7878787878787878\n"
     ]
    }
   ],
   "source": [
    "predicted_svm=clf.predict(X_new_test)\n",
    "cm_svm=metrics.confusion_matrix(y_test,predicted_svm)\n",
    "accuracy_svm=metrics.accuracy_score(y_test,predicted_svm)\n",
    "print(accuracy_svm)"
   ]
  },
  {
   "cell_type": "code",
   "execution_count": 172,
   "metadata": {},
   "outputs": [
    {
     "data": {
      "text/plain": [
       "<sklearn.metrics._plot.confusion_matrix.ConfusionMatrixDisplay at 0x16a63588>"
      ]
     },
     "execution_count": 172,
     "metadata": {},
     "output_type": "execute_result"
    },
    {
     "data": {
      "image/png": "[encoded data removed]",
      "text/plain": [
       "<Figure size 432x288 with 2 Axes>"
      ]
     },
     "metadata": {
      "needs_background": "light"
     },
     "output_type": "display_data"
    }
   ],
   "source": [
    "from sklearn.metrics import ConfusionMatrixDisplay\n",
    "cmd_svm=ConfusionMatrixDisplay(cm_svm,display_labels=['0','1'])\n",
    "cmd_svm.plot()"
   ]
  },
  {
   "cell_type": "code",
   "execution_count": 173,
   "metadata": {},
   "outputs": [
    {
     "name": "stdout",
     "output_type": "stream",
     "text": [
      "[0 0 0 0 0 0 0 0 0 0 0 0 1 1 0 1 0 0 0 0 0 0 1 0 0 0 0 1 0 1 0 0 0 1 0 1 0\n",
      " 0 0 1 0 0 0 0 0 0 1 1 0 0 0 0 1 0 1 0 1 0 0 0 1 0 1 0 0 0 0 0 1 1 1 1 1 0\n",
      " 1 0 1 0 0 1 1 0 0 0 0 1 1 0 0 0 0 0 0 0 1 1 0 0 1 0 0 0 1 0 0 0 1 1 0 0 0\n",
      " 0 0 0 0 0 0 0 0 0 0 1 0 0 0 0 0 0 1 0 1 0 0 0 0 0 0 1 0 0 1 0 0 1 1 0 0 0\n",
      " 0 0 0 1 0 0 1 1 0 0 0 0 1 1 0 0 0 0 0 1 1 1 1 1 0 0 1 0 1 0 0 0 0 1 0 1 0\n",
      " 0 0 1 0 0 0 0 0 0 1 0 0 0 0 1 1 0 0 0 1 1 0 0 0 1 0 0 0 1 0 0 0 0 0 0 0 0\n",
      " 0 1 0 0 0 0 0 1 0]\n"
     ]
    }
   ],
   "source": [
    "print(predicted_svm)"
   ]
  },
  {
   "cell_type": "code",
   "execution_count": 174,
   "metadata": {},
   "outputs": [
    {
     "name": "stdout",
     "output_type": "stream",
     "text": [
      "              precision    recall  f1-score   support\n",
      "\n",
      "           0       0.79      0.90      0.84       146\n",
      "           1       0.78      0.59      0.67        85\n",
      "\n",
      "    accuracy                           0.79       231\n",
      "   macro avg       0.79      0.75      0.76       231\n",
      "weighted avg       0.79      0.79      0.78       231\n",
      "\n"
     ]
    }
   ],
   "source": [
    "from sklearn.metrics import classification_report\n",
    "print(classification_report(y_test,predicted_svm))"
   ]
  }
 ],
 "metadata": {
  "interpreter": {
   "hash": "1e69689e5e242cbc00f58acd77178b2b87a7e16fa8bc05cee9bd04661e21fcc2"
  },
  "kernelspec": {
   "display_name": "Python 3.6.13 64-bit ('ratnabali': conda)",
   "name": "python3"
  },
  "language_info": {
   "codemirror_mode": {
    "name": "ipython",
    "version": 3
   },
   "file_extension": ".py",
   "mimetype": "text/x-python",
   "name": "python",
   "nbconvert_exporter": "python",
   "pygments_lexer": "ipython3",
   "version": "3.6.13"
  }
 },
 "nbformat": 4,
 "nbformat_minor": 4
}
